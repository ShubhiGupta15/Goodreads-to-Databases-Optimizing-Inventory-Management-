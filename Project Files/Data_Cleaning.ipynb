{
 "cells": [
  {
   "attachments": {},
   "cell_type": "markdown",
   "id": "c4108d8c-d888-44b1-b1bf-e71884c46f8b",
   "metadata": {},
   "source": [
    "### Fall 2024: CIS 556- Database Systems\n",
    "\n",
    "### Topic - Library inventory optimization using the Goodreads Books dataset\n",
    "Team Members - Sagnik Roy, Shubhi Gupta\n"
   ]
  },
  {
   "cell_type": "code",
   "execution_count": 1,
   "id": "84945ae3-cc25-400a-9c2e-6410d89c6f88",
   "metadata": {},
   "outputs": [
    {
     "name": "stdout",
     "output_type": "stream",
     "text": [
      "<class 'pandas.core.frame.DataFrame'>\n",
      "RangeIndex: 11123 entries, 0 to 11122\n",
      "Data columns (total 12 columns):\n",
      " #   Column              Non-Null Count  Dtype \n",
      "---  ------              --------------  ----- \n",
      " 0   bookID              11123 non-null  int64 \n",
      " 1   title               11123 non-null  object\n",
      " 2   authors             11123 non-null  object\n",
      " 3   average_rating      11123 non-null  object\n",
      " 4   isbn                11123 non-null  object\n",
      " 5   isbn13              11123 non-null  object\n",
      " 6   language_code       11123 non-null  object\n",
      " 7     num_pages         11123 non-null  object\n",
      " 8   ratings_count       11123 non-null  int64 \n",
      " 9   text_reviews_count  11123 non-null  int64 \n",
      " 10  publication_date    11123 non-null  object\n",
      " 11  publisher           11123 non-null  object\n",
      "dtypes: int64(3), object(9)\n",
      "memory usage: 1.0+ MB\n"
     ]
    },
    {
     "data": {
      "text/plain": [
       "(None,\n",
       "    bookID                                              title  \\\n",
       " 0       1  Harry Potter and the Half-Blood Prince (Harry ...   \n",
       " 1       2  Harry Potter and the Order of the Phoenix (Har...   \n",
       " 2       4  Harry Potter and the Chamber of Secrets (Harry...   \n",
       " 3       5  Harry Potter and the Prisoner of Azkaban (Harr...   \n",
       " 4       8  Harry Potter Boxed Set  Books 1-5 (Harry Potte...   \n",
       " \n",
       "                       authors average_rating        isbn         isbn13  \\\n",
       " 0  J.K. Rowling/Mary GrandPré           4.57  0439785960  9780439785969   \n",
       " 1  J.K. Rowling/Mary GrandPré           4.49  0439358078  9780439358071   \n",
       " 2                J.K. Rowling           4.42  0439554896  9780439554893   \n",
       " 3  J.K. Rowling/Mary GrandPré           4.56  043965548X  9780439655484   \n",
       " 4  J.K. Rowling/Mary GrandPré           4.78  0439682584  9780439682589   \n",
       " \n",
       "   language_code   num_pages  ratings_count  text_reviews_count  \\\n",
       " 0           eng         652        2095690               27591   \n",
       " 1           eng         870        2153167               29221   \n",
       " 2           eng         352           6333                 244   \n",
       " 3           eng         435        2339585               36325   \n",
       " 4           eng        2690          41428                 164   \n",
       " \n",
       "   publication_date        publisher  \n",
       " 0        9/16/2006  Scholastic Inc.  \n",
       " 1         9/1/2004  Scholastic Inc.  \n",
       " 2        11/1/2003       Scholastic  \n",
       " 3         5/1/2004  Scholastic Inc.  \n",
       " 4        9/13/2004       Scholastic  )"
      ]
     },
     "execution_count": 1,
     "metadata": {},
     "output_type": "execute_result"
    }
   ],
   "source": [
    "import pandas as pd\n",
    "import re\n",
    "\n",
    "# Load your dataset\n",
    "books_data = pd.read_csv(\"data/books.csv\", engine=\"python\", on_bad_lines=\"skip\", usecols=lambda col: col != \"Unnamed: 12\")\n",
    "\n",
    "# Display the updated dataset's structure and the first few rows\n",
    "books_data.info(), books_data.head()"
   ]
  },
  {
   "cell_type": "code",
   "execution_count": 2,
   "id": "31f1e6ae-147d-44b1-bda0-d100fdd3f3e0",
   "metadata": {},
   "outputs": [
    {
     "data": {
      "text/plain": [
       "Index(['bookID', 'title', 'authors', 'average_rating', 'isbn', 'isbn13',\n",
       "       'language_code', '  num_pages', 'ratings_count', 'text_reviews_count',\n",
       "       'publication_date', 'publisher'],\n",
       "      dtype='object')"
      ]
     },
     "execution_count": 2,
     "metadata": {},
     "output_type": "execute_result"
    }
   ],
   "source": [
    "books_data.columns"
   ]
  },
  {
   "cell_type": "code",
   "execution_count": 3,
   "id": "42ae4f31-0c7a-4c5d-92c0-f5c8d103e7fb",
   "metadata": {},
   "outputs": [
    {
     "name": "stdout",
     "output_type": "stream",
     "text": [
      "                                               title\n",
      "0  Harry Potter and the Half-Blood Prince (Harry ...\n",
      "1  Harry Potter and the Order of the Phoenix (Har...\n",
      "2  Harry Potter and the Chamber of Secrets (Harry...\n",
      "3  Harry Potter and the Prisoner of Azkaban (Harr...\n",
      "4  Harry Potter Boxed Set  Books 1-5 (Harry Potte...\n"
     ]
    }
   ],
   "source": [
    "# Ensure all titles are strings\n",
    "books_data['title'] = books_data['title'].astype(str)\n",
    "\n",
    "# Step 2: Display the updated dataset to check\n",
    "print(books_data[['title']].head())\n"
   ]
  },
  {
   "cell_type": "code",
   "execution_count": 4,
   "id": "10e4ea87-c7a3-4523-a81c-5806a7ffad49",
   "metadata": {},
   "outputs": [
    {
     "data": {
      "text/plain": [
       "(11123, 12)"
      ]
     },
     "execution_count": 4,
     "metadata": {},
     "output_type": "execute_result"
    }
   ],
   "source": [
    "books_data.shape"
   ]
  },
  {
   "cell_type": "code",
   "execution_count": 5,
   "id": "38dfb3f6-3c81-4a28-bdac-b0f54218e357",
   "metadata": {},
   "outputs": [
    {
     "name": "stdout",
     "output_type": "stream",
     "text": [
      "<class 'pandas.core.frame.DataFrame'>\n",
      "RangeIndex: 11123 entries, 0 to 11122\n",
      "Data columns (total 12 columns):\n",
      " #   Column              Non-Null Count  Dtype \n",
      "---  ------              --------------  ----- \n",
      " 0   bookID              11123 non-null  int64 \n",
      " 1   title               11123 non-null  object\n",
      " 2   authors             11123 non-null  object\n",
      " 3   average_rating      11123 non-null  object\n",
      " 4   isbn                11123 non-null  object\n",
      " 5   isbn13              11123 non-null  object\n",
      " 6   language_code       11123 non-null  object\n",
      " 7     num_pages         11123 non-null  object\n",
      " 8   ratings_count       11123 non-null  int64 \n",
      " 9   text_reviews_count  11123 non-null  int64 \n",
      " 10  publication_date    11123 non-null  object\n",
      " 11  publisher           11123 non-null  object\n",
      "dtypes: int64(3), object(9)\n",
      "memory usage: 1.0+ MB\n"
     ]
    },
    {
     "data": {
      "text/plain": [
       "(None,\n",
       "    bookID                                              title  \\\n",
       " 0       1  Harry Potter and the Half-Blood Prince (Harry ...   \n",
       " 1       2  Harry Potter and the Order of the Phoenix (Har...   \n",
       " 2       4  Harry Potter and the Chamber of Secrets (Harry...   \n",
       " 3       5  Harry Potter and the Prisoner of Azkaban (Harr...   \n",
       " 4       8  Harry Potter Boxed Set  Books 1-5 (Harry Potte...   \n",
       " \n",
       "                    authors average_rating        isbn         isbn13  \\\n",
       " 0  JK Rowling/Mary GrandPr           4.57  0439785960  9780439785969   \n",
       " 1  JK Rowling/Mary GrandPr           4.49  0439358078  9780439358071   \n",
       " 2               JK Rowling           4.42  0439554896  9780439554893   \n",
       " 3  JK Rowling/Mary GrandPr           4.56  043965548X  9780439655484   \n",
       " 4  JK Rowling/Mary GrandPr           4.78  0439682584  9780439682589   \n",
       " \n",
       "   language_code   num_pages  ratings_count  text_reviews_count  \\\n",
       " 0           eng         652        2095690               27591   \n",
       " 1           eng         870        2153167               29221   \n",
       " 2           eng         352           6333                 244   \n",
       " 3           eng         435        2339585               36325   \n",
       " 4           eng        2690          41428                 164   \n",
       " \n",
       "   publication_date        publisher  \n",
       " 0        9/16/2006  Scholastic Inc.  \n",
       " 1         9/1/2004  Scholastic Inc.  \n",
       " 2        11/1/2003       Scholastic  \n",
       " 3         5/1/2004  Scholastic Inc.  \n",
       " 4        9/13/2004       Scholastic  )"
      ]
     },
     "execution_count": 5,
     "metadata": {},
     "output_type": "execute_result"
    }
   ],
   "source": [
    "# Step 1: Define a function to clean the author names\n",
    "def clean_author_names(author):\n",
    "    if pd.isna(author):\n",
    "        return None\n",
    "    # Remove leading non-alphabetic characters and trim extra spaces\n",
    "    author = re.sub(r'^[^a-zA-Z]+', '', author).strip()\n",
    "    # Clean up any non-alphabetic characters, leaving only letters, spaces, or slashes\n",
    "    author = re.sub(r'[^a-zA-Z\\s/]', '', author)\n",
    "    # Split authors by '/' if there are multiple authors\n",
    "    authors = author.split('/')\n",
    "    # Clean each author's name: strip extra spaces and remove any empty string\n",
    "    authors = [name.strip() for name in authors if name.strip()]\n",
    "    return '/'.join(authors) if authors else None\n",
    "\n",
    "# Step 2: Apply the cleaning function to the 'author' column\n",
    "books_data['authors'] = books_data['authors'].apply(clean_author_names)\n",
    "\n",
    "# Display the cleaned dataset's structure and the first few rows\n",
    "books_data.info(), books_data.head()\n"
   ]
  },
  {
   "cell_type": "code",
   "execution_count": 6,
   "id": "737ad139-84a3-4e74-a31a-0bd608179d99",
   "metadata": {},
   "outputs": [
    {
     "name": "stdout",
     "output_type": "stream",
     "text": [
      "         isbn         isbn13\n",
      "0  0439785960  9780439785969\n",
      "1  0439358078  9780439358071\n",
      "2  0439554896  9780439554893\n",
      "3  043965548X  9780439655484\n",
      "4  0439682584  9780439682589\n"
     ]
    }
   ],
   "source": [
    "import re\n",
    "\n",
    "# Define a function to clean and standardize ISBN numbers\n",
    "def clean_isbn(isbn):\n",
    "    # Ensure the input is a string and handle any NaN values\n",
    "    isbn = str(isbn).strip()\n",
    "    \n",
    "    # Remove unwanted characters but keep 'X' if it appears at the end\n",
    "    isbn_cleaned = re.sub(r'[^0-9X]', '', isbn)\n",
    "    \n",
    "    # Return cleaned ISBN as text\n",
    "    return isbn_cleaned\n",
    "\n",
    "# Step 1: Clean the 'isbn' column using the function defined above\n",
    "books_data['isbn'] = books_data['isbn'].apply(clean_isbn)\n",
    "\n",
    "# Step 2: Clean the 'isbn13' column using the same function\n",
    "books_data['isbn13'] = books_data['isbn13'].apply(clean_isbn)\n",
    "\n",
    "# Check the cleaned ISBN and ISBN13 columns\n",
    "print(books_data[['isbn', 'isbn13']].head())\n",
    "\n"
   ]
  },
  {
   "cell_type": "code",
   "execution_count": 7,
   "id": "2c9fada5-8139-4fc0-81f9-3c8b9e77c92a",
   "metadata": {},
   "outputs": [
    {
     "data": {
      "text/plain": [
       "(11123, 12)"
      ]
     },
     "execution_count": 7,
     "metadata": {},
     "output_type": "execute_result"
    }
   ],
   "source": [
    "books_data.shape"
   ]
  },
  {
   "cell_type": "code",
   "execution_count": 8,
   "id": "32455002-4020-4e54-af95-1a19a809f5ed",
   "metadata": {},
   "outputs": [],
   "source": [
    "# Convert 'average_rating' to numeric, invalid parsing will be set as NaN\n",
    "books_data['average_rating'] = pd.to_numeric(books_data['average_rating'], errors='coerce')\n",
    "\n",
    "# Count how many rows will be removed (those where 'average_rating' is NaN)\n",
    "invalid_ratings = books_data[books_data['average_rating'].isna()]\n",
    "count_invalid_ratings = len(invalid_ratings)\n",
    "\n",
    "# Remove rows where 'average_rating' is NaN (invalid numbers)\n",
    "books_data = books_data.dropna(subset=['average_rating'])"
   ]
  },
  {
   "cell_type": "code",
   "execution_count": 9,
   "id": "30e4cf13-f59e-45f5-9c1c-77bacddf67d6",
   "metadata": {},
   "outputs": [],
   "source": [
    "# Define a function to remove digits from language codes\n",
    "def remove_numbers_from_language_code(language_code):\n",
    "    # Use regex to remove digits\n",
    "    return re.sub(r'\\d+', '', str(language_code))\n",
    "\n",
    "# Apply the function to the 'language_code' column\n",
    "books_data['language_code'] = books_data['language_code'].apply(remove_numbers_from_language_code)\n",
    "\n",
    "# Define a mapping of language codes to their full names\n",
    "language_mapping = {\n",
    "    'eng': 'English',\n",
    "    'en-US': 'English (US)',\n",
    "    'fre': 'French',\n",
    "    'spa': 'Spanish',\n",
    "    'en-GB': 'English (UK)',\n",
    "    'mul': 'Multiple Languages',\n",
    "    'grc': 'Ancient Greek',\n",
    "    'enm': 'Middle English',\n",
    "    'en-CA': 'English (Canada)',\n",
    "    'ger': 'German',\n",
    "    'jpn': 'Japanese',\n",
    "    'ara': 'Arabic',\n",
    "    'nl': 'Dutch',\n",
    "    'zho': 'Chinese',\n",
    "    'lat': 'Latin',\n",
    "    'por': 'Portuguese',\n",
    "    'srp': 'Serbian',\n",
    "    'ita': 'Italian',\n",
    "    'rus': 'Russian',\n",
    "    'msa': 'Malay',\n",
    "    'glg': 'Galician',\n",
    "    'wel': 'Welsh',\n",
    "    'swe': 'Swedish',\n",
    "    'nor': 'Norwegian',\n",
    "    'tur': 'Turkish',\n",
    "    'gla': 'Gaelic',\n",
    "    'ale': 'Aleut'\n",
    "}\n",
    "\n",
    "# Create a new column 'language_name' by applying the mapping\n",
    "books_data['language_name'] = books_data['language_code'].map(language_mapping)\n",
    "\n",
    "# Drop the old 'language_code' column\n",
    "books_data.drop(columns=['language_code'], inplace=True)\n",
    "\n",
    "\n"
   ]
  },
  {
   "cell_type": "code",
   "execution_count": 10,
   "id": "cd9d2ba3-dbfb-4ff8-8ed9-a9ac26491267",
   "metadata": {},
   "outputs": [
    {
     "data": {
      "text/plain": [
       "(11119, 12)"
      ]
     },
     "execution_count": 10,
     "metadata": {},
     "output_type": "execute_result"
    }
   ],
   "source": [
    "books_data.shape"
   ]
  },
  {
   "cell_type": "code",
   "execution_count": 11,
   "id": "65034d6e-ad20-40fd-96a3-32e5afd89bb6",
   "metadata": {},
   "outputs": [
    {
     "name": "stdout",
     "output_type": "stream",
     "text": [
      "         publisher\n",
      "0  Scholastic Inc.\n",
      "1  Scholastic Inc.\n",
      "2       Scholastic\n",
      "3  Scholastic Inc.\n",
      "4       Scholastic\n",
      "   bookID                                              title  \\\n",
      "0       1  Harry Potter and the Half-Blood Prince (Harry ...   \n",
      "1       2  Harry Potter and the Order of the Phoenix (Har...   \n",
      "2       4  Harry Potter and the Chamber of Secrets (Harry...   \n",
      "3       5  Harry Potter and the Prisoner of Azkaban (Harr...   \n",
      "4       8  Harry Potter Boxed Set  Books 1-5 (Harry Potte...   \n",
      "\n",
      "                   authors  average_rating        isbn         isbn13  \\\n",
      "0  JK Rowling/Mary GrandPr            4.57  0439785960  9780439785969   \n",
      "1  JK Rowling/Mary GrandPr            4.49  0439358078  9780439358071   \n",
      "2               JK Rowling            4.42  0439554896  9780439554893   \n",
      "3  JK Rowling/Mary GrandPr            4.56  043965548X  9780439655484   \n",
      "4  JK Rowling/Mary GrandPr            4.78  0439682584  9780439682589   \n",
      "\n",
      "    num_pages  ratings_count  text_reviews_count publication_date  \\\n",
      "0         652        2095690               27591       2006-09-16   \n",
      "1         870        2153167               29221       2004-09-01   \n",
      "2         352           6333                 244       2003-11-01   \n",
      "3         435        2339585               36325       2004-05-01   \n",
      "4        2690          41428                 164       2004-09-13   \n",
      "\n",
      "         publisher language_name  \n",
      "0  Scholastic Inc.       English  \n",
      "1  Scholastic Inc.       English  \n",
      "2       Scholastic       English  \n",
      "3  Scholastic Inc.       English  \n",
      "4       Scholastic       English  \n"
     ]
    },
    {
     "name": "stderr",
     "output_type": "stream",
     "text": [
      "/var/folders/hr/t8t52lgs72v6zwxb59z155mm0000gn/T/ipykernel_33439/3096432006.py:12: UserWarning: Parsing dates in %m/%d/%Y format when dayfirst=True was specified. Pass `dayfirst=False` or specify a format to silence this warning.\n",
      "  books_data['publication_date'] = pd.to_datetime(books_data['publication_date'], errors='coerce', dayfirst=True)\n"
     ]
    }
   ],
   "source": [
    "# Step 1: Remove rows where the 'publisher' column is null\n",
    "books_data = books_data.dropna(subset=['publisher'])\n",
    "\n",
    "# Step 2: Optionally display the updated dataset\n",
    "print(books_data[['publisher']].head())\n",
    "\n",
    "# Step 4: Drop rows where the 'publication_date' column is NaT (Not a Time)\n",
    "books_data = books_data.dropna(subset=['publication_date'])\n",
    "\n",
    "# Step 5: Convert 'publication_date' to datetime with correct format handling\n",
    "# Adjust the format to handle different date formats like \"yy/mm/dd\"\n",
    "books_data['publication_date'] = pd.to_datetime(books_data['publication_date'], errors='coerce', dayfirst=True)\n",
    "\n",
    "# Step 6: Ensure that the 'publication_date' is in the correct format for PostgreSQL (yyyy-mm-dd)\n",
    "books_data['publication_date'] = books_data['publication_date'].dt.strftime('%Y-%m-%d')\n",
    "\n",
    "# Step 7: Extract unique publisher names from the books_data\n",
    "publishers = set(books_data['publisher'].dropna())  # Remove NaN values before extracting unique publishers\n",
    "\n",
    "print(books_data.head())\n"
   ]
  },
  {
   "cell_type": "code",
   "execution_count": 12,
   "id": "2072e8b1-12dd-4511-83ac-2cf93a69d70e",
   "metadata": {},
   "outputs": [
    {
     "data": {
      "text/plain": [
       "(11119, 12)"
      ]
     },
     "execution_count": 12,
     "metadata": {},
     "output_type": "execute_result"
    }
   ],
   "source": [
    "books_data.shape"
   ]
  },
  {
   "cell_type": "code",
   "execution_count": 13,
   "id": "e6b892f8-6be7-48b8-831f-346c51751010",
   "metadata": {},
   "outputs": [
    {
     "name": "stdout",
     "output_type": "stream",
     "text": [
      "<class 'pandas.core.frame.DataFrame'>\n",
      "Index: 11117 entries, 0 to 11118\n",
      "Data columns (total 13 columns):\n",
      " #   Column              Non-Null Count  Dtype  \n",
      "---  ------              --------------  -----  \n",
      " 0   bookID              11117 non-null  int64  \n",
      " 1   title               11117 non-null  object \n",
      " 2   authors             11117 non-null  object \n",
      " 3   average_rating      11117 non-null  float64\n",
      " 4   isbn                11117 non-null  object \n",
      " 5   isbn13              11117 non-null  object \n",
      " 6     num_pages         11117 non-null  object \n",
      " 7   ratings_count       11117 non-null  int64  \n",
      " 8   text_reviews_count  11117 non-null  int64  \n",
      " 9   publication_date    11117 non-null  object \n",
      " 10  publisher           11117 non-null  object \n",
      " 11  language_name       11117 non-null  object \n",
      " 12  publisherID         11117 non-null  int64  \n",
      "dtypes: float64(1), int64(4), object(8)\n",
      "memory usage: 1.2+ MB\n"
     ]
    }
   ],
   "source": [
    "# Step 8: Create a DataFrame for publishers with unique IDs\n",
    "publishers_df = pd.DataFrame(publishers, columns=['name'])\n",
    "publishers_df['publisherID'] = range(1, len(publishers_df) + 1)\n",
    "\n",
    "# Step 9: Merge the 'publishers_df' DataFrame with 'books_data' to add 'publisherID'\n",
    "books_data = books_data.merge(publishers_df, left_on='publisher', right_on='name', how='left')\n",
    "\n",
    "# Step 10: Remove the 'name' column as it's now redundant\n",
    "books_data = books_data.drop(columns=['name'])\n",
    "\n",
    "# Step 11: Remove rows where 'publisher' or 'publication_date' is NULL\n",
    "books_data = books_data.dropna(subset=['publisher', 'publication_date'])\n",
    "\n",
    "books_data.info()\n"
   ]
  },
  {
   "cell_type": "code",
   "execution_count": 14,
   "id": "386909b1-b4e9-44ce-8c42-fec297ca6982",
   "metadata": {},
   "outputs": [
    {
     "name": "stdout",
     "output_type": "stream",
     "text": [
      "<class 'pandas.core.frame.DataFrame'>\n",
      "RangeIndex: 9190 entries, 0 to 9189\n",
      "Data columns (total 2 columns):\n",
      " #   Column    Non-Null Count  Dtype \n",
      "---  ------    --------------  ----- \n",
      " 0   name      9190 non-null   object\n",
      " 1   authorID  9190 non-null   int64 \n",
      "dtypes: int64(1), object(1)\n",
      "memory usage: 143.7+ KB\n"
     ]
    }
   ],
   "source": [
    "# Step 1: Generate unique authors and their corresponding authorID from books_data\n",
    "# We will use the unique authors that are already present in the books_data 'author' column\n",
    "authors_set = set()  # Set to hold unique authors\n",
    "for author_list in books_data['authors'].dropna():\n",
    "    authors_set.update(author_list.split('/'))  # Split by '/' if multiple authors\n",
    "\n",
    "# Step 2: Create authors_df with unique authors and their authorID\n",
    "authors_df = pd.DataFrame(list(authors_set), columns=['name'])\n",
    "authors_df['authorID'] = range(1, len(authors_df) + 1)  # Assign unique authorIDs\n",
    "\n",
    "# Step 3: Save the authors DataFrame to a CSV (optional)\n",
    "authors_df.to_csv('data/authors.csv', index=False)\n",
    "\n",
    "# Display authors_df to verify\n",
    "authors_df.info()\n",
    "\n"
   ]
  },
  {
   "cell_type": "code",
   "execution_count": 15,
   "id": "b2ea90cd-7fd8-4d38-8f9c-a10ad86e5497",
   "metadata": {},
   "outputs": [
    {
     "name": "stdout",
     "output_type": "stream",
     "text": [
      "<class 'pandas.core.frame.DataFrame'>\n",
      "Index: 11117 entries, 0 to 11118\n",
      "Data columns (total 14 columns):\n",
      " #   Column              Non-Null Count  Dtype  \n",
      "---  ------              --------------  -----  \n",
      " 0   bookID              11117 non-null  int64  \n",
      " 1   title               11117 non-null  object \n",
      " 2   authors             11117 non-null  object \n",
      " 3   average_rating      11117 non-null  float64\n",
      " 4   isbn                11117 non-null  object \n",
      " 5   isbn13              11117 non-null  object \n",
      " 6     num_pages         11117 non-null  object \n",
      " 7   ratings_count       11117 non-null  int64  \n",
      " 8   text_reviews_count  11117 non-null  int64  \n",
      " 9   publication_date    11117 non-null  object \n",
      " 10  publisher           11117 non-null  object \n",
      " 11  language_name       11117 non-null  object \n",
      " 12  publisherID         11117 non-null  int64  \n",
      " 13  authorID            11117 non-null  int64  \n",
      "dtypes: float64(1), int64(5), object(8)\n",
      "memory usage: 1.3+ MB\n"
     ]
    },
    {
     "data": {
      "text/plain": [
       "(None,\n",
       "    bookID                                              title  \\\n",
       " 0       1  Harry Potter and the Half-Blood Prince (Harry ...   \n",
       " 1       2  Harry Potter and the Order of the Phoenix (Har...   \n",
       " 2       4  Harry Potter and the Chamber of Secrets (Harry...   \n",
       " 3       5  Harry Potter and the Prisoner of Azkaban (Harr...   \n",
       " 4       8  Harry Potter Boxed Set  Books 1-5 (Harry Potte...   \n",
       " \n",
       "                    authors  average_rating        isbn         isbn13  \\\n",
       " 0  JK Rowling/Mary GrandPr            4.57  0439785960  9780439785969   \n",
       " 1  JK Rowling/Mary GrandPr            4.49  0439358078  9780439358071   \n",
       " 2               JK Rowling            4.42  0439554896  9780439554893   \n",
       " 3  JK Rowling/Mary GrandPr            4.56  043965548X  9780439655484   \n",
       " 4  JK Rowling/Mary GrandPr            4.78  0439682584  9780439682589   \n",
       " \n",
       "     num_pages  ratings_count  text_reviews_count publication_date  \\\n",
       " 0         652        2095690               27591       2006-09-16   \n",
       " 1         870        2153167               29221       2004-09-01   \n",
       " 2         352           6333                 244       2003-11-01   \n",
       " 3         435        2339585               36325       2004-05-01   \n",
       " 4        2690          41428                 164       2004-09-13   \n",
       " \n",
       "          publisher language_name  publisherID  authorID  \n",
       " 0  Scholastic Inc.       English          934      7992  \n",
       " 1  Scholastic Inc.       English          934      7992  \n",
       " 2       Scholastic       English         2269      7992  \n",
       " 3  Scholastic Inc.       English          934      7992  \n",
       " 4       Scholastic       English         2269      7992  )"
      ]
     },
     "execution_count": 15,
     "metadata": {},
     "output_type": "execute_result"
    }
   ],
   "source": [
    "# Step 4: Create a dictionary for fast lookup of authorID by author name\n",
    "author_to_id = dict(zip(authors_df['name'], authors_df['authorID']))\n",
    "\n",
    "# Step 5: Update books_data with the correct authorID for each book\n",
    "# For each book, assign the authorID based on the first author (or any logic you prefer)\n",
    "books_data['authorID'] = books_data['authors'].apply(\n",
    "    lambda authors: author_to_id[authors.split('/')[0].strip()] if pd.notna(authors) else None\n",
    ")\n",
    "\n",
    "# Display the updated books_data with the new 'authorID' column\n",
    "books_data.info(), books_data.head()\n"
   ]
  },
  {
   "cell_type": "code",
   "execution_count": 16,
   "id": "3c353cd4-12bd-4543-bb45-d99e6f84a285",
   "metadata": {},
   "outputs": [
    {
     "data": {
      "text/html": [
       "<div>\n",
       "<style scoped>\n",
       "    .dataframe tbody tr th:only-of-type {\n",
       "        vertical-align: middle;\n",
       "    }\n",
       "\n",
       "    .dataframe tbody tr th {\n",
       "        vertical-align: top;\n",
       "    }\n",
       "\n",
       "    .dataframe thead th {\n",
       "        text-align: right;\n",
       "    }\n",
       "</style>\n",
       "<table border=\"1\" class=\"dataframe\">\n",
       "  <thead>\n",
       "    <tr style=\"text-align: right;\">\n",
       "      <th></th>\n",
       "      <th>bookID</th>\n",
       "      <th>authorID</th>\n",
       "    </tr>\n",
       "  </thead>\n",
       "  <tbody>\n",
       "    <tr>\n",
       "      <th>0</th>\n",
       "      <td>1</td>\n",
       "      <td>7992</td>\n",
       "    </tr>\n",
       "    <tr>\n",
       "      <th>1</th>\n",
       "      <td>1</td>\n",
       "      <td>8358</td>\n",
       "    </tr>\n",
       "    <tr>\n",
       "      <th>2</th>\n",
       "      <td>2</td>\n",
       "      <td>7992</td>\n",
       "    </tr>\n",
       "    <tr>\n",
       "      <th>3</th>\n",
       "      <td>2</td>\n",
       "      <td>8358</td>\n",
       "    </tr>\n",
       "    <tr>\n",
       "      <th>4</th>\n",
       "      <td>4</td>\n",
       "      <td>7992</td>\n",
       "    </tr>\n",
       "  </tbody>\n",
       "</table>\n",
       "</div>"
      ],
      "text/plain": [
       "   bookID  authorID\n",
       "0       1      7992\n",
       "1       1      8358\n",
       "2       2      7992\n",
       "3       2      8358\n",
       "4       4      7992"
      ]
     },
     "execution_count": 16,
     "metadata": {},
     "output_type": "execute_result"
    }
   ],
   "source": [
    "# Step 6: Create book-authors relationships for book_authors.csv\n",
    "book_authors_data = []\n",
    "\n",
    "# Iterate through the books_data to generate (bookID, authorID) pairs\n",
    "for idx, row in books_data.iterrows():\n",
    "    bookID = row['bookID']  # Assuming 'bookID' column exists in books_data\n",
    "    authors_list = row['authors']\n",
    "    \n",
    "    if pd.notna(authors_list):  \n",
    "        for author in authors_list.split('/'):  # Split authors if more than one\n",
    "            author = author.strip()  # Clean up extra spaces\n",
    "            if author in author_to_id:\n",
    "                authorID = author_to_id[author]\n",
    "                book_authors_data.append({'bookID': bookID, 'authorID': authorID})\n",
    "\n",
    "# Step 7: Create DataFrame\n",
    "book_authors_df = pd.DataFrame(book_authors_data)\n",
    "\n",
    "# Remove duplicates where the combination of bookID and authorID is the same\n",
    "book_authors_df = book_authors_df.drop_duplicates(subset=['bookID', 'authorID'])\n",
    "\n",
    "# Save book_authors_df to CSV\n",
    "book_authors_df.to_csv('data/book_authors.csv', index=False)\n",
    "\n",
    "book_authors_df.head()\n"
   ]
  },
  {
   "cell_type": "code",
   "execution_count": 17,
   "id": "ddb7fc93-3a1e-4e74-9d9b-62a56a3b297e",
   "metadata": {},
   "outputs": [
    {
     "data": {
      "text/plain": [
       "array([    1,     2,     4, ..., 45634, 45639, 45641])"
      ]
     },
     "execution_count": 17,
     "metadata": {},
     "output_type": "execute_result"
    }
   ],
   "source": [
    "books_data[\"bookID\"].unique()"
   ]
  },
  {
   "cell_type": "code",
   "execution_count": 18,
   "id": "85d0058c-25d8-4829-b8e7-404815981e8e",
   "metadata": {},
   "outputs": [
    {
     "data": {
      "text/plain": [
       "Index(['bookID', 'title', 'authors', 'average_rating', 'isbn', 'isbn13',\n",
       "       '  num_pages', 'ratings_count', 'text_reviews_count',\n",
       "       'publication_date', 'publisher', 'language_name', 'publisherID',\n",
       "       'authorID'],\n",
       "      dtype='object')"
      ]
     },
     "execution_count": 18,
     "metadata": {},
     "output_type": "execute_result"
    }
   ],
   "source": [
    "books_data.columns"
   ]
  },
  {
   "cell_type": "code",
   "execution_count": 19,
   "id": "471b8878-a1d5-47bd-9e58-c5478f43ddd9",
   "metadata": {},
   "outputs": [
    {
     "data": {
      "text/html": [
       "<div>\n",
       "<style scoped>\n",
       "    .dataframe tbody tr th:only-of-type {\n",
       "        vertical-align: middle;\n",
       "    }\n",
       "\n",
       "    .dataframe tbody tr th {\n",
       "        vertical-align: top;\n",
       "    }\n",
       "\n",
       "    .dataframe thead th {\n",
       "        text-align: right;\n",
       "    }\n",
       "</style>\n",
       "<table border=\"1\" class=\"dataframe\">\n",
       "  <thead>\n",
       "    <tr style=\"text-align: right;\">\n",
       "      <th></th>\n",
       "      <th>bookID</th>\n",
       "      <th>authorID</th>\n",
       "    </tr>\n",
       "  </thead>\n",
       "  <tbody>\n",
       "    <tr>\n",
       "      <th>0</th>\n",
       "      <td>1</td>\n",
       "      <td>7992</td>\n",
       "    </tr>\n",
       "    <tr>\n",
       "      <th>1</th>\n",
       "      <td>1</td>\n",
       "      <td>8358</td>\n",
       "    </tr>\n",
       "    <tr>\n",
       "      <th>2</th>\n",
       "      <td>2</td>\n",
       "      <td>7992</td>\n",
       "    </tr>\n",
       "    <tr>\n",
       "      <th>3</th>\n",
       "      <td>2</td>\n",
       "      <td>8358</td>\n",
       "    </tr>\n",
       "    <tr>\n",
       "      <th>4</th>\n",
       "      <td>4</td>\n",
       "      <td>7992</td>\n",
       "    </tr>\n",
       "    <tr>\n",
       "      <th>5</th>\n",
       "      <td>5</td>\n",
       "      <td>7992</td>\n",
       "    </tr>\n",
       "    <tr>\n",
       "      <th>6</th>\n",
       "      <td>5</td>\n",
       "      <td>8358</td>\n",
       "    </tr>\n",
       "    <tr>\n",
       "      <th>7</th>\n",
       "      <td>8</td>\n",
       "      <td>7992</td>\n",
       "    </tr>\n",
       "    <tr>\n",
       "      <th>8</th>\n",
       "      <td>8</td>\n",
       "      <td>8358</td>\n",
       "    </tr>\n",
       "    <tr>\n",
       "      <th>9</th>\n",
       "      <td>9</td>\n",
       "      <td>5811</td>\n",
       "    </tr>\n",
       "  </tbody>\n",
       "</table>\n",
       "</div>"
      ],
      "text/plain": [
       "   bookID  authorID\n",
       "0       1      7992\n",
       "1       1      8358\n",
       "2       2      7992\n",
       "3       2      8358\n",
       "4       4      7992\n",
       "5       5      7992\n",
       "6       5      8358\n",
       "7       8      7992\n",
       "8       8      8358\n",
       "9       9      5811"
      ]
     },
     "execution_count": 19,
     "metadata": {},
     "output_type": "execute_result"
    }
   ],
   "source": [
    "book_authors_df.head(10)"
   ]
  },
  {
   "cell_type": "code",
   "execution_count": 20,
   "id": "59d68b9b-613d-42b7-951e-1f6d4d248661",
   "metadata": {},
   "outputs": [],
   "source": [
    "books_data['text_reviews_count'] = pd.to_numeric(books_data['text_reviews_count'], errors='coerce')"
   ]
  },
  {
   "cell_type": "code",
   "execution_count": 21,
   "id": "5905f6d5-dd6f-42c4-a94f-8894846a2064",
   "metadata": {},
   "outputs": [
    {
     "data": {
      "text/html": [
       "<div>\n",
       "<style scoped>\n",
       "    .dataframe tbody tr th:only-of-type {\n",
       "        vertical-align: middle;\n",
       "    }\n",
       "\n",
       "    .dataframe tbody tr th {\n",
       "        vertical-align: top;\n",
       "    }\n",
       "\n",
       "    .dataframe thead th {\n",
       "        text-align: right;\n",
       "    }\n",
       "</style>\n",
       "<table border=\"1\" class=\"dataframe\">\n",
       "  <thead>\n",
       "    <tr style=\"text-align: right;\">\n",
       "      <th></th>\n",
       "      <th>bookID</th>\n",
       "      <th>title</th>\n",
       "      <th>authors</th>\n",
       "      <th>average_rating</th>\n",
       "      <th>isbn</th>\n",
       "      <th>isbn13</th>\n",
       "      <th>num_pages</th>\n",
       "      <th>ratings_count</th>\n",
       "      <th>text_reviews_count</th>\n",
       "      <th>publication_date</th>\n",
       "      <th>publisher</th>\n",
       "      <th>language_name</th>\n",
       "      <th>publisherID</th>\n",
       "      <th>authorID</th>\n",
       "    </tr>\n",
       "  </thead>\n",
       "  <tbody>\n",
       "    <tr>\n",
       "      <th>0</th>\n",
       "      <td>1</td>\n",
       "      <td>Harry Potter and the Half-Blood Prince (Harry ...</td>\n",
       "      <td>JK Rowling/Mary GrandPr</td>\n",
       "      <td>4.57</td>\n",
       "      <td>0439785960</td>\n",
       "      <td>9780439785969</td>\n",
       "      <td>652</td>\n",
       "      <td>2095690</td>\n",
       "      <td>27591</td>\n",
       "      <td>2006-09-16</td>\n",
       "      <td>Scholastic Inc.</td>\n",
       "      <td>English</td>\n",
       "      <td>933</td>\n",
       "      <td>7992</td>\n",
       "    </tr>\n",
       "    <tr>\n",
       "      <th>1</th>\n",
       "      <td>2</td>\n",
       "      <td>Harry Potter and the Order of the Phoenix (Har...</td>\n",
       "      <td>JK Rowling/Mary GrandPr</td>\n",
       "      <td>4.49</td>\n",
       "      <td>0439358078</td>\n",
       "      <td>9780439358071</td>\n",
       "      <td>870</td>\n",
       "      <td>2153167</td>\n",
       "      <td>29221</td>\n",
       "      <td>2004-09-01</td>\n",
       "      <td>Scholastic Inc.</td>\n",
       "      <td>English</td>\n",
       "      <td>933</td>\n",
       "      <td>7992</td>\n",
       "    </tr>\n",
       "    <tr>\n",
       "      <th>2</th>\n",
       "      <td>4</td>\n",
       "      <td>Harry Potter and the Chamber of Secrets (Harry...</td>\n",
       "      <td>JK Rowling</td>\n",
       "      <td>4.42</td>\n",
       "      <td>0439554896</td>\n",
       "      <td>9780439554893</td>\n",
       "      <td>352</td>\n",
       "      <td>6333</td>\n",
       "      <td>244</td>\n",
       "      <td>2003-11-01</td>\n",
       "      <td>Scholastic</td>\n",
       "      <td>English</td>\n",
       "      <td>2268</td>\n",
       "      <td>7992</td>\n",
       "    </tr>\n",
       "    <tr>\n",
       "      <th>3</th>\n",
       "      <td>5</td>\n",
       "      <td>Harry Potter and the Prisoner of Azkaban (Harr...</td>\n",
       "      <td>JK Rowling/Mary GrandPr</td>\n",
       "      <td>4.56</td>\n",
       "      <td>043965548X</td>\n",
       "      <td>9780439655484</td>\n",
       "      <td>435</td>\n",
       "      <td>2339585</td>\n",
       "      <td>36325</td>\n",
       "      <td>2004-05-01</td>\n",
       "      <td>Scholastic Inc.</td>\n",
       "      <td>English</td>\n",
       "      <td>933</td>\n",
       "      <td>7992</td>\n",
       "    </tr>\n",
       "    <tr>\n",
       "      <th>4</th>\n",
       "      <td>8</td>\n",
       "      <td>Harry Potter Boxed Set  Books 1-5 (Harry Potte...</td>\n",
       "      <td>JK Rowling/Mary GrandPr</td>\n",
       "      <td>4.78</td>\n",
       "      <td>0439682584</td>\n",
       "      <td>9780439682589</td>\n",
       "      <td>2690</td>\n",
       "      <td>41428</td>\n",
       "      <td>164</td>\n",
       "      <td>2004-09-13</td>\n",
       "      <td>Scholastic</td>\n",
       "      <td>English</td>\n",
       "      <td>2268</td>\n",
       "      <td>7992</td>\n",
       "    </tr>\n",
       "  </tbody>\n",
       "</table>\n",
       "</div>"
      ],
      "text/plain": [
       "   bookID                                              title  \\\n",
       "0       1  Harry Potter and the Half-Blood Prince (Harry ...   \n",
       "1       2  Harry Potter and the Order of the Phoenix (Har...   \n",
       "2       4  Harry Potter and the Chamber of Secrets (Harry...   \n",
       "3       5  Harry Potter and the Prisoner of Azkaban (Harr...   \n",
       "4       8  Harry Potter Boxed Set  Books 1-5 (Harry Potte...   \n",
       "\n",
       "                   authors  average_rating        isbn         isbn13  \\\n",
       "0  JK Rowling/Mary GrandPr            4.57  0439785960  9780439785969   \n",
       "1  JK Rowling/Mary GrandPr            4.49  0439358078  9780439358071   \n",
       "2               JK Rowling            4.42  0439554896  9780439554893   \n",
       "3  JK Rowling/Mary GrandPr            4.56  043965548X  9780439655484   \n",
       "4  JK Rowling/Mary GrandPr            4.78  0439682584  9780439682589   \n",
       "\n",
       "    num_pages  ratings_count  text_reviews_count publication_date  \\\n",
       "0         652        2095690               27591       2006-09-16   \n",
       "1         870        2153167               29221       2004-09-01   \n",
       "2         352           6333                 244       2003-11-01   \n",
       "3         435        2339585               36325       2004-05-01   \n",
       "4        2690          41428                 164       2004-09-13   \n",
       "\n",
       "         publisher language_name  publisherID  authorID  \n",
       "0  Scholastic Inc.       English          933      7992  \n",
       "1  Scholastic Inc.       English          933      7992  \n",
       "2       Scholastic       English         2268      7992  \n",
       "3  Scholastic Inc.       English          933      7992  \n",
       "4       Scholastic       English         2268      7992  "
      ]
     },
     "execution_count": 21,
     "metadata": {},
     "output_type": "execute_result"
    }
   ],
   "source": [
    "# Step 1: Extract unique publishers from books_data\n",
    "publishers = set(books_data['publisher'].dropna())  # Remove NaN values and get unique publishers\n",
    "publishers_df = pd.DataFrame(list(publishers), columns=['name'])\n",
    "\n",
    "# Step 2: Assign unique publisherID to each publisher\n",
    "publishers_df['publisherID'] = range(1, len(publishers_df) + 1)\n",
    "\n",
    "# Step 3: Save the publishers DataFrame to a CSV file\n",
    "publishers_df = publishers_df[['publisherID', 'name']]  # Ensure columns are in the correct order\n",
    "publishers_df.to_csv('data/publishers.csv', index=False)\n",
    "publishers_df.head()\n",
    "\n",
    "\n",
    "# Step 4: Create a dictionary for fast lookup of publisherID by publisher name\n",
    "publisher_to_id = dict(zip(publishers_df['name'], publishers_df['publisherID']))\n",
    "\n",
    "# Step 5: Update books_data with the correct publisherID\n",
    "books_data['publisherID'] = books_data['publisher'].apply(\n",
    "    lambda publisher: publisher_to_id[publisher.strip()] if pd.notna(publisher) else None\n",
    ")\n",
    "\n",
    "# Display the updated books_data with the new 'publisherID' column\n",
    "books_data.head()\n"
   ]
  },
  {
   "cell_type": "code",
   "execution_count": 22,
   "id": "4fb98316-43fc-4a6b-89a6-1ae4b0a89253",
   "metadata": {},
   "outputs": [
    {
     "data": {
      "text/html": [
       "<div>\n",
       "<style scoped>\n",
       "    .dataframe tbody tr th:only-of-type {\n",
       "        vertical-align: middle;\n",
       "    }\n",
       "\n",
       "    .dataframe tbody tr th {\n",
       "        vertical-align: top;\n",
       "    }\n",
       "\n",
       "    .dataframe thead th {\n",
       "        text-align: right;\n",
       "    }\n",
       "</style>\n",
       "<table border=\"1\" class=\"dataframe\">\n",
       "  <thead>\n",
       "    <tr style=\"text-align: right;\">\n",
       "      <th></th>\n",
       "      <th>language_name</th>\n",
       "    </tr>\n",
       "  </thead>\n",
       "  <tbody>\n",
       "    <tr>\n",
       "      <th>0</th>\n",
       "      <td>Portuguese</td>\n",
       "    </tr>\n",
       "    <tr>\n",
       "      <th>1</th>\n",
       "      <td>Japanese</td>\n",
       "    </tr>\n",
       "    <tr>\n",
       "      <th>2</th>\n",
       "      <td>Swedish</td>\n",
       "    </tr>\n",
       "    <tr>\n",
       "      <th>3</th>\n",
       "      <td>Serbian</td>\n",
       "    </tr>\n",
       "    <tr>\n",
       "      <th>4</th>\n",
       "      <td>Multiple Languages</td>\n",
       "    </tr>\n",
       "  </tbody>\n",
       "</table>\n",
       "</div>"
      ],
      "text/plain": [
       "        language_name\n",
       "0          Portuguese\n",
       "1            Japanese\n",
       "2             Swedish\n",
       "3             Serbian\n",
       "4  Multiple Languages"
      ]
     },
     "execution_count": 22,
     "metadata": {},
     "output_type": "execute_result"
    }
   ],
   "source": [
    "# Step 1: Extract unique languages from the 'language' column in books_data\n",
    "# Assuming 'language' column exists and contains the language of each book\n",
    "languages = set(books_data['language_name'].dropna())  # Remove NaN values and get unique languages\n",
    "\n",
    "# Step 2: Create a DataFrame for languages\n",
    "languages_df = pd.DataFrame(list(languages), columns=['language_name'])\n",
    "\n",
    "# Step 3: Save the languages DataFrame to a CSV file\n",
    "languages_df.to_csv('data/languages.csv', index=False)\n",
    "\n",
    "# Display the saved file content (optional)\n",
    "languages_df.head()\n"
   ]
  },
  {
   "cell_type": "code",
   "execution_count": 23,
   "id": "36de838e-a383-40be-9257-5d22231fe4eb",
   "metadata": {},
   "outputs": [
    {
     "data": {
      "text/plain": [
       "Index(['bookID', 'title', 'authors', 'average_rating', 'isbn', 'isbn13',\n",
       "       '  num_pages', 'ratings_count', 'text_reviews_count',\n",
       "       'publication_date', 'publisher', 'language_name', 'publisherID',\n",
       "       'authorID'],\n",
       "      dtype='object')"
      ]
     },
     "execution_count": 23,
     "metadata": {},
     "output_type": "execute_result"
    }
   ],
   "source": [
    "books_data.columns"
   ]
  },
  {
   "cell_type": "code",
   "execution_count": 24,
   "id": "f0a5b139-873c-4ed2-b9d5-adc2f73d0210",
   "metadata": {},
   "outputs": [],
   "source": [
    "books_data.to_csv(\"data/final_cleaned_data.csv\",index=False)"
   ]
  },
  {
   "cell_type": "code",
   "execution_count": 25,
   "id": "e5fe6f3c-03f5-4506-864f-bcad6ec4da58",
   "metadata": {},
   "outputs": [
    {
     "data": {
      "text/html": [
       "<div>\n",
       "<style scoped>\n",
       "    .dataframe tbody tr th:only-of-type {\n",
       "        vertical-align: middle;\n",
       "    }\n",
       "\n",
       "    .dataframe tbody tr th {\n",
       "        vertical-align: top;\n",
       "    }\n",
       "\n",
       "    .dataframe thead th {\n",
       "        text-align: right;\n",
       "    }\n",
       "</style>\n",
       "<table border=\"1\" class=\"dataframe\">\n",
       "  <thead>\n",
       "    <tr style=\"text-align: right;\">\n",
       "      <th></th>\n",
       "      <th>bookID</th>\n",
       "      <th>authorID</th>\n",
       "    </tr>\n",
       "  </thead>\n",
       "  <tbody>\n",
       "    <tr>\n",
       "      <th>0</th>\n",
       "      <td>1</td>\n",
       "      <td>7992</td>\n",
       "    </tr>\n",
       "    <tr>\n",
       "      <th>1</th>\n",
       "      <td>1</td>\n",
       "      <td>8358</td>\n",
       "    </tr>\n",
       "    <tr>\n",
       "      <th>2</th>\n",
       "      <td>2</td>\n",
       "      <td>7992</td>\n",
       "    </tr>\n",
       "    <tr>\n",
       "      <th>3</th>\n",
       "      <td>2</td>\n",
       "      <td>8358</td>\n",
       "    </tr>\n",
       "    <tr>\n",
       "      <th>4</th>\n",
       "      <td>4</td>\n",
       "      <td>7992</td>\n",
       "    </tr>\n",
       "    <tr>\n",
       "      <th>5</th>\n",
       "      <td>5</td>\n",
       "      <td>7992</td>\n",
       "    </tr>\n",
       "    <tr>\n",
       "      <th>6</th>\n",
       "      <td>5</td>\n",
       "      <td>8358</td>\n",
       "    </tr>\n",
       "    <tr>\n",
       "      <th>7</th>\n",
       "      <td>8</td>\n",
       "      <td>7992</td>\n",
       "    </tr>\n",
       "    <tr>\n",
       "      <th>8</th>\n",
       "      <td>8</td>\n",
       "      <td>8358</td>\n",
       "    </tr>\n",
       "    <tr>\n",
       "      <th>9</th>\n",
       "      <td>9</td>\n",
       "      <td>5811</td>\n",
       "    </tr>\n",
       "  </tbody>\n",
       "</table>\n",
       "</div>"
      ],
      "text/plain": [
       "   bookID  authorID\n",
       "0       1      7992\n",
       "1       1      8358\n",
       "2       2      7992\n",
       "3       2      8358\n",
       "4       4      7992\n",
       "5       5      7992\n",
       "6       5      8358\n",
       "7       8      7992\n",
       "8       8      8358\n",
       "9       9      5811"
      ]
     },
     "execution_count": 25,
     "metadata": {},
     "output_type": "execute_result"
    }
   ],
   "source": [
    "book_authors_df.head(10)"
   ]
  },
  {
   "cell_type": "code",
   "execution_count": 26,
   "id": "8b0897d6-cd23-4528-b71f-0400b6f49493",
   "metadata": {},
   "outputs": [
    {
     "data": {
      "text/html": [
       "<div>\n",
       "<style scoped>\n",
       "    .dataframe tbody tr th:only-of-type {\n",
       "        vertical-align: middle;\n",
       "    }\n",
       "\n",
       "    .dataframe tbody tr th {\n",
       "        vertical-align: top;\n",
       "    }\n",
       "\n",
       "    .dataframe thead th {\n",
       "        text-align: right;\n",
       "    }\n",
       "</style>\n",
       "<table border=\"1\" class=\"dataframe\">\n",
       "  <thead>\n",
       "    <tr style=\"text-align: right;\">\n",
       "      <th></th>\n",
       "      <th>publisherID</th>\n",
       "      <th>name</th>\n",
       "    </tr>\n",
       "  </thead>\n",
       "  <tbody>\n",
       "    <tr>\n",
       "      <th>0</th>\n",
       "      <td>1</td>\n",
       "      <td>McDougal Littel</td>\n",
       "    </tr>\n",
       "    <tr>\n",
       "      <th>1</th>\n",
       "      <td>2</td>\n",
       "      <td>Pavilion Press (Wi)</td>\n",
       "    </tr>\n",
       "    <tr>\n",
       "      <th>2</th>\n",
       "      <td>3</td>\n",
       "      <td>Boosey &amp; Hawkes Inc</td>\n",
       "    </tr>\n",
       "    <tr>\n",
       "      <th>3</th>\n",
       "      <td>4</td>\n",
       "      <td>Norma</td>\n",
       "    </tr>\n",
       "    <tr>\n",
       "      <th>4</th>\n",
       "      <td>5</td>\n",
       "      <td>Grove Press  Granta</td>\n",
       "    </tr>\n",
       "    <tr>\n",
       "      <th>5</th>\n",
       "      <td>6</td>\n",
       "      <td>Council Press</td>\n",
       "    </tr>\n",
       "    <tr>\n",
       "      <th>6</th>\n",
       "      <td>7</td>\n",
       "      <td>Orion Publishing</td>\n",
       "    </tr>\n",
       "    <tr>\n",
       "      <th>7</th>\n",
       "      <td>8</td>\n",
       "      <td>Kabel  Verlag GmbH Ernst</td>\n",
       "    </tr>\n",
       "    <tr>\n",
       "      <th>8</th>\n",
       "      <td>9</td>\n",
       "      <td>Severn House</td>\n",
       "    </tr>\n",
       "    <tr>\n",
       "      <th>9</th>\n",
       "      <td>10</td>\n",
       "      <td>McSweeney's</td>\n",
       "    </tr>\n",
       "  </tbody>\n",
       "</table>\n",
       "</div>"
      ],
      "text/plain": [
       "   publisherID                      name\n",
       "0            1           McDougal Littel\n",
       "1            2       Pavilion Press (Wi)\n",
       "2            3       Boosey & Hawkes Inc\n",
       "3            4                     Norma\n",
       "4            5       Grove Press  Granta\n",
       "5            6             Council Press\n",
       "6            7          Orion Publishing\n",
       "7            8  Kabel  Verlag GmbH Ernst\n",
       "8            9              Severn House\n",
       "9           10               McSweeney's"
      ]
     },
     "execution_count": 26,
     "metadata": {},
     "output_type": "execute_result"
    }
   ],
   "source": [
    "publishers_df.head(10)"
   ]
  },
  {
   "cell_type": "code",
   "execution_count": 27,
   "id": "e4862277-5ba7-4831-ae5b-9c93124cf262",
   "metadata": {},
   "outputs": [
    {
     "data": {
      "text/plain": [
       "(11117, 14)"
      ]
     },
     "execution_count": 27,
     "metadata": {},
     "output_type": "execute_result"
    }
   ],
   "source": [
    "books_data.shape"
   ]
  },
  {
   "cell_type": "code",
   "execution_count": null,
   "id": "cb324815-9c67-4c40-b6c5-df0b724a8120",
   "metadata": {},
   "outputs": [],
   "source": []
  }
 ],
 "metadata": {
  "kernelspec": {
   "display_name": "Python 3 (ipykernel)",
   "language": "python",
   "name": "python3"
  },
  "language_info": {
   "codemirror_mode": {
    "name": "ipython",
    "version": 3
   },
   "file_extension": ".py",
   "mimetype": "text/x-python",
   "name": "python",
   "nbconvert_exporter": "python",
   "pygments_lexer": "ipython3",
   "version": "3.12.4"
  }
 },
 "nbformat": 4,
 "nbformat_minor": 5
}
